{
  "nbformat": 4,
  "nbformat_minor": 0,
  "metadata": {
    "colab": {
      "name": "progetto.ipynb",
      "provenance": [],
      "collapsed_sections": [],
      "include_colab_link": true
    },
    "kernelspec": {
      "name": "python3",
      "display_name": "Python 3"
    },
    "language_info": {
      "name": "python"
    },
    "accelerator": "GPU"
  },
  "cells": [
    {
      "cell_type": "markdown",
      "metadata": {
        "id": "view-in-github",
        "colab_type": "text"
      },
      "source": [
        "<a href=\"https://colab.research.google.com/github/ChiaraVanderputten/MLDL2022/blob/main/progetto.ipynb\" target=\"_parent\"><img src=\"https://colab.research.google.com/assets/colab-badge.svg\" alt=\"Open In Colab\"/></a>"
      ]
    },
    {
      "cell_type": "code",
      "source": [
        "from google.colab import drive\n",
        "drive.mount('/content/drive')"
      ],
      "metadata": {
        "id": "Bu1uFn_bdWEI",
        "colab": {
          "base_uri": "https://localhost:8080/"
        },
        "outputId": "c0e3c366-9890-4598-b575-ed476dc9e011"
      },
      "execution_count": 1,
      "outputs": [
        {
          "output_type": "stream",
          "name": "stdout",
          "text": [
            "Mounted at /content/drive\n"
          ]
        }
      ]
    },
    {
      "cell_type": "code",
      "source": [
        "%cd /content/drive/MyDrive/BiseNetv1-master\n",
        "!pip install tensorboardX\n",
        "!python train.py"
      ],
      "metadata": {
        "id": "lPO-uPpEk-bA",
        "colab": {
          "base_uri": "https://localhost:8080/"
        },
        "outputId": "240626e1-1d5e-45b0-8ab7-1f09ad624b7d"
      },
      "execution_count": 2,
      "outputs": [
        {
          "output_type": "stream",
          "name": "stdout",
          "text": [
            "/content/drive/MyDrive/BiseNetv1-master\n",
            "Requirement already satisfied: tensorboardX in /usr/local/lib/python3.7/dist-packages (2.5)\n",
            "Requirement already satisfied: six in /usr/local/lib/python3.7/dist-packages (from tensorboardX) (1.15.0)\n",
            "Requirement already satisfied: numpy in /usr/local/lib/python3.7/dist-packages (from tensorboardX) (1.21.6)\n",
            "Requirement already satisfied: protobuf>=3.8.0 in /usr/local/lib/python3.7/dist-packages (from tensorboardX) (3.17.3)\n",
            "epoch 0, lr 0.025000: 100% 504/504 [02:14<00:00,  3.74it/s, loss=3.262793]\n",
            "loss for train : 3.393353\n",
            "epoch 1, lr 0.024550: 100% 504/504 [02:13<00:00,  3.78it/s, loss=1.672490]\n",
            "loss for train : 1.925045\n",
            "epoch 2, lr 0.024098: 100% 504/504 [02:12<00:00,  3.79it/s, loss=1.690247]\n",
            "loss for train : 1.627460\n",
            "epoch 3, lr 0.023646: 100% 504/504 [02:10<00:00,  3.85it/s, loss=1.304164]\n",
            "loss for train : 1.453980\n",
            "epoch 4, lr 0.023193: 100% 504/504 [02:10<00:00,  3.86it/s, loss=1.490770]\n",
            "loss for train : 1.335328\n",
            "epoch 5, lr 0.022738: 100% 504/504 [02:09<00:00,  3.90it/s, loss=1.030085]\n",
            "loss for train : 1.228703\n",
            "epoch 6, lr 0.022283: 100% 504/504 [02:08<00:00,  3.92it/s, loss=1.006229]\n",
            "loss for train : 1.186994\n",
            "epoch 7, lr 0.021827: 100% 504/504 [02:07<00:00,  3.96it/s, loss=1.122826]\n",
            "loss for train : 1.075206\n",
            "epoch 8, lr 0.021369: 100% 504/504 [02:06<00:00,  3.98it/s, loss=1.276872]\n",
            "loss for train : 1.040108\n",
            "epoch 9, lr 0.020911: 100% 504/504 [02:05<00:00,  4.01it/s, loss=1.067459]\n",
            "loss for train : 0.974170\n",
            "epoch 10, lr 0.020451: 100% 504/504 [02:05<00:00,  4.03it/s, loss=0.849747]\n",
            "loss for train : 0.940835\n",
            "start val!\n",
            "Traceback (most recent call last):\n",
            "  File \"train.py\", line 225, in <module>\n",
            "    main(params)\n",
            "  File \"train.py\", line 207, in main\n",
            "    train(args, model, optimizer, dataloader_train, dataloader_val)\n",
            "  File \"train.py\", line 120, in train\n",
            "    precision, miou = val(args, model, dataloader_val)\n",
            "  File \"train.py\", line 35, in val\n",
            "    predict = reverse_one_hot(predict)\n",
            "  File \"/content/drive/MyDrive/BiseNetv1-master/utils.py\", line 123, in reverse_one_hot\n",
            "    image = image.permute(1, 2, 0)\n",
            "RuntimeError: number of dims don't match in permute\n"
          ]
        }
      ]
    }
  ]
}